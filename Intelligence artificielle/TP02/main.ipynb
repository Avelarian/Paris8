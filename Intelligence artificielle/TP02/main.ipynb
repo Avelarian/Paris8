{
  "metadata": {
    "language_info": {
      "codemirror_mode": {
        "name": "python",
        "version": 3
      },
      "file_extension": ".py",
      "mimetype": "text/x-python",
      "name": "python",
      "nbconvert_exporter": "python",
      "pygments_lexer": "ipython3",
      "version": "3.8"
    },
    "kernelspec": {
      "name": "python",
      "display_name": "Python (Pyodide)",
      "language": "python"
    }
  },
  "nbformat_minor": 4,
  "nbformat": 4,
  "cells": [
    {
      "cell_type": "code",
      "source": "import sys\nimport numpy as np\nnp.set_printoptions(threshold=sys.maxsize)\nimport pandas as pd\nimport warnings\nimport matplotlib.pyplot as plt\nwarnings.filterwarnings('ignore')",
      "metadata": {
        "trusted": true
      },
      "execution_count": 118,
      "outputs": []
    },
    {
      "cell_type": "code",
      "source": "data_villes = pd.read_csv('villes.csv', sep=';')\nvilles_labels = data_villes.iloc[:, 0].values\nX_villes = data_villes.iloc[:, 1:13].values\n\n# print(villes_labels)\n# print(X_villes)",
      "metadata": {
        "trusted": true
      },
      "execution_count": 119,
      "outputs": []
    },
    {
      "cell_type": "code",
      "source": "from sklearn.preprocessing import StandardScaler\nfrom sklearn.decomposition import PCA\n\nscaler = StandardScaler()\nX_villes = scaler.fit_transform(X_villes)\npca = PCA(n_components=2)\n\nprincipal_villes_components = pca.fit_transform(X_villes)\nprincipal_villes_data = pd.DataFrame(data=principal_villes_components, columns=['principal component 1', 'principal component 2'])\nfinal_villes_data = pd.concat([principal_villes_data, data_villes[['ville']]], axis=1)\n\n# print(final_villes_data)",
      "metadata": {
        "trusted": true
      },
      "execution_count": 120,
      "outputs": []
    },
    {
      "cell_type": "code",
      "source": "import\tmatplotlib\n\nfigure = plt.figure(figsize = (8,8))\n\nax = figure.add_subplot(1,1,1)\n\nax.set_xlabel('Principal Component 1', fontsize = 15)\nax.set_ylabel('Principal Component 2', fontsize = 15)\n\nax.set_title('2 component PCA', fontsize = 20)\n\nfor label in final_villes_data['ville']:\n    indicesToKeep = final_villes_data['ville'] == label\n    ax.scatter(final_villes_data.loc[indicesToKeep, 'principal component 1']\n               , final_villes_data.loc[indicesToKeep, 'principal component 2']\n               , s = 50)\n    \nax.legend(final_villes_data['ville'])\nax.grid()",
      "metadata": {
        "trusted": true
      },
      "execution_count": 121,
      "outputs": []
    },
    {
      "cell_type": "code",
      "source": "data_crimes = pd.read_csv('crimes.csv', sep=';')\ncrimes_labels = data_crimes.iloc[:, 0].values\nX_crimes = data_crimes.iloc[:, 1:13].values\n\n# print(crimes_labels)\n# print(X_crimes)",
      "metadata": {
        "trusted": true
      },
      "execution_count": 122,
      "outputs": []
    },
    {
      "cell_type": "code",
      "source": "from sklearn.preprocessing import StandardScaler\nfrom sklearn.decomposition import PCA\n\nscaler = StandardScaler()\nX_crimes = scaler.fit_transform(X_crimes)\n\nprincipal_crimes_components = pca.fit_transform(X_crimes)\nprincipal_crimes_data = pd.DataFrame(data=principal_crimes_components, columns=['principal component 1', 'principal component 2'])\nfinal_crimes_data = pd.concat([principal_crimes_data, data_crimes[['Etat ']]], axis=1)\n\n# print(final_crimes_data)",
      "metadata": {
        "trusted": true
      },
      "execution_count": 123,
      "outputs": []
    },
    {
      "cell_type": "code",
      "source": "import\tmatplotlib\n\nfigure = plt.figure(figsize = (8,8))\n\nax = figure.add_subplot(1,1,1)\n\nax.set_xlabel('Principal Component 1', fontsize = 15)\nax.set_ylabel('Principal Component 2', fontsize = 15)\n\nax.set_title('2 component PCA', fontsize = 20)\n\nfor label in final_crimes_data['Etat ']:\n    indicesToKeep = final_crimes_data['Etat '] == label\n    ax.scatter(final_crimes_data.loc[indicesToKeep, 'principal component 1']\n               , final_crimes_data.loc[indicesToKeep, 'principal component 2']\n               , s = 50)\n    \nax.legend(final_crimes_data['Etat '])\nax.grid()",
      "metadata": {
        "trusted": true
      },
      "execution_count": 124,
      "outputs": []
    },
    {
      "cell_type": "code",
      "source": "from sklearn.cluster import KMeans\n\nkmeans = KMeans(n_clusters=3)\nclustering = kmeans.fit_predict(principal_villes_components)\n\ncolors = ['red','yellow','blue','pink']\nplt.scatter(principal_villes_components[:, 0], principal_villes_components[:, 1], c=clustering, cmap=matplotlib.colors.ListedColormap(colors))\nfor label, x, y in zip(villes_labels, principal_villes_components[:, 0], principal_villes_components[:, 1]):\n\tplt.annotate(label, xy=(x, y), xytext=(-0.2, 0.2), textcoords='offset points')\n\n# plt.show()",
      "metadata": {
        "trusted": true
      },
      "execution_count": 125,
      "outputs": []
    },
    {
      "cell_type": "code",
      "source": "from sklearn.cluster import AgglomerativeClustering\n\nagglomerative_clustering = AgglomerativeClustering(n_clusters=3)\nclustering = agglomerative_clustering.fit_predict(principal_villes_components)\n\ncolors = ['red','yellow','blue','pink']\nplt.scatter(principal_villes_components[:, 0], principal_villes_components[:, 1], c=clustering, cmap=matplotlib.colors.ListedColormap(colors))\nfor label, x, y in zip(villes_labels, principal_villes_components[:, 0], principal_villes_components[:, 1]):\n\tplt.annotate(label, xy=(x, y), xytext=(-0.2, 0.2), textcoords='offset points')\n\n# plt.show()\n\nagglomerative_clustering = AgglomerativeClustering(n_clusters=3, linkage='average')\nclustering = agglomerative_clustering.fit_predict(principal_villes_components)\n\nplt.scatter(principal_villes_components[:, 0], principal_villes_components[:, 1], c=clustering, cmap=matplotlib.colors.ListedColormap(colors))\nfor label, x, y in zip(villes_labels, principal_villes_components[:, 0], principal_villes_components[:, 1]):\n\tplt.annotate(label, xy=(x, y), xytext=(-0.2, 0.2), textcoords='offset points')\n\n# plt.show()",
      "metadata": {
        "trusted": true
      },
      "execution_count": 126,
      "outputs": []
    },
    {
      "cell_type": "code",
      "source": "from sklearn import metrics\n\nfor i in np.arange(2, 6):\n    clustering = KMeans(n_clusters=i).fit_predict(X_villes)\n    if i == 2:\n        aux = [i, metrics.silhouette_score(X_villes, clustering,metric='euclidean')]\n    else:\n        aux2 = [i, metrics.silhouette_score(X_villes, clustering,metric='euclidean')]\n        if aux2[1] > aux[1]:\n            aux = aux2\n        \n# print(\"Le meilleur nombre de cluster c'est \" + str(aux[0]) + \" et la silhouette c'est \" + str(aux[1]))",
      "metadata": {
        "trusted": true
      },
      "execution_count": 136,
      "outputs": []
    },
    {
      "cell_type": "code",
      "source": "",
      "metadata": {},
      "execution_count": null,
      "outputs": []
    }
  ]
}