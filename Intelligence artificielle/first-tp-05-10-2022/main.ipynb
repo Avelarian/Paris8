{
  "metadata": {
    "language_info": {
      "codemirror_mode": {
        "name": "python",
        "version": 3
      },
      "file_extension": ".py",
      "mimetype": "text/x-python",
      "name": "python",
      "nbconvert_exporter": "python",
      "pygments_lexer": "ipython3",
      "version": "3.8"
    },
    "kernelspec": {
      "name": "python",
      "display_name": "Python (Pyodide)",
      "language": "python"
    }
  },
  "nbformat_minor": 4,
  "nbformat": 4,
  "cells": [
    {
      "cell_type": "code",
      "source": "import sys\nimport\tnumpy\tas\tnp\nnp.set_printoptions(threshold=sys.maxsize)\n\nimport\tpandas\tas\tpd\nimport\tmatplotlib.pyplot\tas\tplt\n\nimport\twarnings\nwarnings.filterwarnings('ignore')",
      "metadata": {
        "trusted": true
      },
      "execution_count": 1,
      "outputs": []
    },
    {
      "cell_type": "code",
      "source": "data_frame = pd.read_csv('credit_scoring.csv', sep=';')\nstatus_data_frame = data_frame.iloc[:, 13]\nstatus_values = status_data_frame.values\nrest_data_frame = data_frame.iloc[:, 0:13]\nrest_values = rest_data_frame.values\n\n# print(status_values)\n# print(rest_values)",
      "metadata": {
        "trusted": true
      },
      "execution_count": 2,
      "outputs": []
    },
    {
      "cell_type": "code",
      "source": "status_shape = status_values.shape\nrest_shape = rest_values.shape\n\nhist = status_data_frame.hist(bins=3, figsize=(8, 8))\n\n# print(status_shape)\n# print(rest_shape)",
      "metadata": {
        "trusted": true
      },
      "execution_count": 5,
      "outputs": [
        {
          "name": "stdout",
          "text": "AxesSubplot(0.125,0.11;0.775x0.77)\n",
          "output_type": "stream"
        }
      ]
    },
    {
      "cell_type": "code",
      "source": "from sklearn.model_selection import train_test_split\n\nrest_train, rest_test, status_train, status_test = train_test_split(rest_values, status_values, test_size=0.2, random_state=0)\n\n# print(rest_train.shape)\n# print(rest_test.shape)\n# print(status_train.shape)\n# print(status_test.shape)",
      "metadata": {
        "trusted": true
      },
      "execution_count": 17,
      "outputs": []
    },
    {
      "cell_type": "code",
      "source": "from sklearn.tree import DecisionTreeClassifier\nfrom sklearn import metrics\n\ncart = DecisionTreeClassifier(max_depth=3, random_state=0)\n\nrest_train, rest_test, status_train, status_test = train_test_split(rest_data_frame, status_data_frame, test_size=0.20)\ncart.fit(rest_train, status_train)\nstatus_pred = cart.predict(rest_test)\naccuracy = metrics.accuracy_score(status_test, status_pred)\n\n# print(\"Accuracy CART:\", accuracy)",
      "metadata": {
        "trusted": true
      },
      "execution_count": 19,
      "outputs": []
    },
    {
      "cell_type": "code",
      "source": "from sklearn.neighbors import KNeighborsClassifier\nfrom sklearn import metrics\n\nknn = KNeighborsClassifier(n_neighbors=5)\n\nrest_train, rest_test, status_train, status_test = train_test_split(rest_data_frame, status_data_frame, test_size=0.20)\nknn.fit(rest_train, status_train)\n\nstatus_pred = knn.predict(rest_test)\naccuracy = metrics.accuracy_score(status_test, status_pred)\n\n# print(\"Accuracy KNN:\", accuracy)",
      "metadata": {
        "trusted": true
      },
      "execution_count": 21,
      "outputs": []
    },
    {
      "cell_type": "code",
      "source": "from sklearn.preprocessing import StandardScaler\n\nscaler = StandardScaler()\n\nrest_train_scaled = scaler.fit_transform(rest_train)\nrest_test_scaled = scaler.transform(rest_test)",
      "metadata": {
        "trusted": true
      },
      "execution_count": 22,
      "outputs": []
    },
    {
      "cell_type": "code",
      "source": "cart = DecisionTreeClassifier(max_depth=3, random_state=0)\n\nrest_train_scaled, rest_test_scaled, status_train, status_test = train_test_split(rest_data_frame, status_data_frame, test_size=0.20)\ncart.fit(rest_train_scaled, status_train)\nstatus_pred = cart.predict(rest_test)\naccuracy = metrics.accuracy_score(status_test, status_pred)\n\n# print(\"Accuracy CART with scaled data:\", accuracy)",
      "metadata": {
        "trusted": true
      },
      "execution_count": 24,
      "outputs": []
    },
    {
      "cell_type": "code",
      "source": "knn = KNeighborsClassifier(n_neighbors=5)\n\nrest_train_scaled, rest_test_scaled, status_train, status_test = train_test_split(rest_data_frame, status_data_frame, test_size=0.20)\nknn.fit(rest_train_scaled, status_train)\nstatus_pred = knn.predict(rest_test_scaled)\naccuracy = metrics.accuracy_score(status_test, status_pred)\n\n# print(\"Accuracy KNN with scaled data:\", accuracy)",
      "metadata": {
        "trusted": true
      },
      "execution_count": 35,
      "outputs": []
    },
    {
      "cell_type": "code",
      "source": "from sklearn.preprocessing import MinMaxScaler\n\nscaler = MinMaxScaler()\n\nrest_train_scaled_minmax = scaler.fit_transform(rest_train)\nrest_test_scaled_minmax = scaler.transform(rest_test)",
      "metadata": {
        "trusted": true
      },
      "execution_count": 26,
      "outputs": []
    },
    {
      "cell_type": "code",
      "source": "cart = DecisionTreeClassifier(max_depth=3, random_state=0)\n\nrest_train_scaled_minmax, rest_test_scaled_minmax, status_train, status_test = train_test_split(rest_data_frame, status_data_frame, test_size=0.20)\ncart.fit(rest_train_scaled_minmax, status_train)\nstatus_pred = cart.predict(rest_test_scaled_minmax)\naccuracy = metrics.accuracy_score(status_test, status_pred)\n\n# print(\"Accuracy CART with scaled data min max:\", accuracy)",
      "metadata": {
        "trusted": true
      },
      "execution_count": 28,
      "outputs": []
    },
    {
      "cell_type": "code",
      "source": "knn = KNeighborsClassifier(n_neighbors=5)\n\nrest_train_scaled_minmax, rest_test_scaled_minmax, status_train, status_test = train_test_split(rest_data_frame, status_data_frame, test_size=0.20)\nknn.fit(rest_train_scaled_minmax, status_train)\nstatus_pred = knn.predict(rest_test_scaled_minmax)\naccuracy = metrics.accuracy_score(status_test, status_pred)\n                                   \n# print(\"Accuracy KNN with scaled data min max:\", accuracy)",
      "metadata": {
        "trusted": true
      },
      "execution_count": 34,
      "outputs": []
    },
    {
      "cell_type": "code",
      "source": "from sklearn.decomposition import PCA\n\npca = PCA(n_components=3)\n\nrest_train_pca = pca.fit_transform(rest_train)\nrest_test_pca = pca.transform(rest_test)",
      "metadata": {
        "trusted": true
      },
      "execution_count": 31,
      "outputs": []
    },
    {
      "cell_type": "code",
      "source": "cart = DecisionTreeClassifier(max_depth=3, random_state=0)\n\nrest_train_pca, rest_test_pca, status_train, status_test = train_test_split(rest_data_frame, status_data_frame, test_size=0.20)\ncart.fit(rest_train_pca, status_train)\nstatus_pred = cart.predict(rest_test_pca)\naccuracy = metrics.accuracy_score(status_test, status_pred)\n\n# print(\"Accuracy CART with pca:\", accuracy)",
      "metadata": {
        "trusted": true
      },
      "execution_count": 33,
      "outputs": []
    },
    {
      "cell_type": "code",
      "source": "knn = KNeighborsClassifier(n_neighbors=5)\n\nrest_train_pca, rest_test_pca, status_train, status_test = train_test_split(rest_data_frame, status_data_frame, test_size=0.20)\nknn.fit(rest_train_pca, status_train)\nstatus_pred = knn.predict(rest_test_pca)\naccuracy = metrics.accuracy_score(status_test, status_pred)\n\n# print(\"Accuracy KNN with scaled data min max:\", accuracy)",
      "metadata": {
        "trusted": true
      },
      "execution_count": 37,
      "outputs": []
    },
    {
      "cell_type": "code",
      "source": "",
      "metadata": {},
      "execution_count": null,
      "outputs": []
    }
  ]
}