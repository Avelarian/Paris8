{
 "cells": [
  {
   "attachments": {},
   "cell_type": "markdown",
   "metadata": {},
   "source": [
    "#### Manel Kheffache & Ian Avelar\n",
    "#### TP 03\n",
    "##### 1 Range Estimation"
   ]
  },
  {
   "cell_type": "code",
   "execution_count": 2,
   "metadata": {},
   "outputs": [],
   "source": [
    "# generate random uniform variables\n",
    "\n",
    "import numpy as np\n",
    "import matplotlib.pyplot as plt\n",
    "import scipy.stats as st\n",
    "import math\n",
    "import csv "
   ]
  },
  {
   "attachments": {},
   "cell_type": "markdown",
   "metadata": {},
   "source": [
    "##### First we read the CSV file"
   ]
  },
  {
   "cell_type": "code",
   "execution_count": 9,
   "metadata": {},
   "outputs": [],
   "source": [
    "def read_data(csvfile):\n",
    "    file = open(csvfile)\n",
    "    csvreader = csv.reader(file)\n",
    "    allvalues = []\n",
    "    for i in csvreader:\n",
    "        for j in i:\n",
    "            try:\n",
    "                allvalues.append(float(j))\n",
    "            except ValueError:\n",
    "                # log an error message or skip the value\n",
    "                pass\n",
    "    return allvalues\n",
    "\n",
    "# read_data('data_values.csv')\n"
   ]
  },
  {
   "attachments": {},
   "cell_type": "markdown",
   "metadata": {},
   "source": [
    "##### We generate the random uniform variables"
   ]
  },
  {
   "cell_type": "code",
   "execution_count": 10,
   "metadata": {},
   "outputs": [],
   "source": [
    "# random uniform variables\n",
    "def generate_uniform_variables(n):\n",
    "    return np.random.uniform(0, 1, n)"
   ]
  },
  {
   "attachments": {},
   "cell_type": "markdown",
   "metadata": {},
   "source": [
    "##### The function defines two constants: Fs, which represents the sample rate in Hertz , and fo, which represents the frequency of the sine wave in Hertz.\n",
    "\n",
    "##### It calculates the sine wave value using the math.sin function and the formula for a sine wave: sin * .\n",
    "\n",
    "##### This formula calculates the sine wave value at a specific point in time, n, based on the sample rate and frequency of the wave.\n",
    "\n",
    "##### Finally, the function returns the calculated sine wave value.\n",
    "\n"
   ]
  },
  {
   "cell_type": "code",
   "execution_count": 11,
   "metadata": {},
   "outputs": [],
   "source": [
    "def s_value(n):\n",
    "    Fs = 4000\n",
    "    fo = 2.002\n",
    "    return math.sin((2 * math.pi) * ((fo * n) / Fs))"
   ]
  },
  {
   "attachments": {},
   "cell_type": "markdown",
   "metadata": {},
   "source": [
    "##### In this code, the \"estimation\" function takes three parameters: \"c\", \"delta\", and \"n0\". These parameters are used to calculate an estimate of the range R using the formula R = / 2.\n",
    "\n",
    "##### The function starts by reading in data from a file called \"data_values.csv\" using the \"read_data\" function. It then determines the length of the data and sets the value of M to 1000. It creates two empty lists: \"values\" and \"R_estimates\".\n",
    "\n",
    "##### Next, the function enters a loop that iterates over a range of values from 0 to N-M. For each iteration of the loop, it initializes a variable called \"current_value\" to 0, then enters a second loop that iterates over a range of values from \"n\" to \"n+M\". For each iteration of the inner loop, it calculates a value using the \"s_value\" function and the current loop index \"j\", and adds this value to \"current_value\".\n",
    "\n",
    "##### After the inner loop finishes, the function appends \"current_value\" to the \"values\" list and calculates the current range estimate using the formula R = / 2. It then appends the range estimate to the \"R_estimates\" list.\n",
    "\n",
    "##### Finally, after the outer loop finishes, the function prints the index of the maximum value in the \"values\" list, as well as the range estimate corresponding to this maximum value, which is obtained by looking up the value in the \"R_estimates\" list using the same index."
   ]
  },
  {
   "cell_type": "code",
   "execution_count": 8,
   "metadata": {},
   "outputs": [
    {
     "name": "stdout",
     "output_type": "stream",
     "text": [
      "ML estimation 79982\n",
      "Range R 0.3\n"
     ]
    }
   ],
   "source": [
    "def estimation(c, delta, n0):\n",
    "    data = read_data(\"data_values.csv\")\n",
    "    N = len(data)\n",
    "    M = 1000\n",
    "    values = []\n",
    "    R_estimates = []\n",
    "\n",
    "    for n in range(0, N-M):\n",
    "        current_value = 0\n",
    "        for j in range(n, n+M):\n",
    "            current_value += data[j] * s_value(j-n)\n",
    "        values.append(current_value)\n",
    "        R_estimate = (c * delta * n0) / 2\n",
    "        R_estimates.append(R_estimate)\n",
    "\n",
    "    print('ML estimation', values.index(max(values)))\n",
    "    print('Range R', R_estimates[values.index(max(values))])\n",
    "\n",
    "estimation(3e8, 1e-6, 0.002)"
   ]
  },
  {
   "attachments": {},
   "cell_type": "markdown",
   "metadata": {},
   "source": [
    "##### We could not solve the part two (02)"
   ]
  }
 ],
 "metadata": {
  "kernelspec": {
   "display_name": "Python 3.9.7 ('base')",
   "language": "python",
   "name": "python3"
  },
  "language_info": {
   "codemirror_mode": {
    "name": "ipython",
    "version": 3
   },
   "file_extension": ".py",
   "mimetype": "text/x-python",
   "name": "python",
   "nbconvert_exporter": "python",
   "pygments_lexer": "ipython3",
   "version": "3.9.7"
  },
  "orig_nbformat": 4,
  "vscode": {
   "interpreter": {
    "hash": "9a3b2f89412d06d764fa5d53c7f271a11299da1ad8002cafd7ee65ac1c2fdedc"
   }
  }
 },
 "nbformat": 4,
 "nbformat_minor": 2
}
