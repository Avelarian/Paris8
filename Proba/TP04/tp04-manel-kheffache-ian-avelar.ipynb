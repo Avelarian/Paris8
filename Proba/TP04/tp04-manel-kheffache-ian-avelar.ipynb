{
 "cells": [
  {
   "attachments": {},
   "cell_type": "markdown",
   "metadata": {},
   "source": [
    "#### Manel Kheffache & Ian Avelar\n",
    "#### TP 04 Autoregressive model for speech recognition\n",
    "#### 1 Autoregressive model"
   ]
  },
  {
   "cell_type": "code",
   "execution_count": 20,
   "metadata": {},
   "outputs": [],
   "source": [
    "import csv\n",
    "import numpy as np\n",
    "import math\n",
    "from random import randint, random, uniform"
   ]
  },
  {
   "attachments": {},
   "cell_type": "markdown",
   "metadata": {},
   "source": [
    "##### First we read the CSV file"
   ]
  },
  {
   "cell_type": "code",
   "execution_count": 31,
   "metadata": {},
   "outputs": [],
   "source": [
    "def read_data(csvfile):\n",
    "    file = open(csvfile)\n",
    "    csvreader = csv.reader(file)\n",
    "    allvalues = []\n",
    "    for i in csvreader:\n",
    "        for j in i:\n",
    "            try:\n",
    "                allvalues.append(float(j))\n",
    "            except ValueError:\n",
    "                # log an error message or skip the value\n",
    "                pass\n",
    "    return allvalues\n",
    "\n",
    "# read_data('data_values.csv')"
   ]
  },
  {
   "attachments": {},
   "cell_type": "markdown",
   "metadata": {},
   "source": [
    "#### Estimation\n",
    "\n",
    "#### This code implements a function that estimates the parameters of an autoregressive (AR) model for a given signal. An AR model is a statistical model that describes a signal as a function of its past values, with the assumption that the current value of the signal depends on a linear combination of its previous values.\n",
    "\n",
    "#### The function starts by reading in data from a file called \"signal_values.csv\" and initializing some variables. It then calculates a list of autocorrelation values for the data, which are used to estimate the parameters of the AR model. The autocorrelation values are calculated using the formula:\n",
    "\n",
    "#### The function then converts the list of autocorrelation values into two matrices, Ra_matrix and Rb_matrix, which are used to estimate the parameters of the AR model. It inverts the Ra_matrix and multiplies it by the transposed Rb_matrix to obtain a list of estimates for the unknown variables, called A_list.\n",
    "\n",
    "#### Finally, the function calculates the variance of the noise in the data (sigma) using the calculated autocorrelation values and the estimates in A_list. The variance of the noise is an important parameter in the AR model, as it determines the amount of uncertainty in the signal."
   ]
  },
  {
   "cell_type": "code",
   "execution_count": 30,
   "metadata": {},
   "outputs": [
    {
     "name": "stdout",
     "output_type": "stream",
     "text": [
      "R_list: [1.118353209875046, 0.16021741489690122, 0.34993039688837757]\n",
      "Ra_matrix: [[1.11835321 0.16021741]\n",
      " [0.16021741 1.11835321]]\n",
      "Rb_matrix: [[0.16021741 0.3499304 ]]\n",
      "Ra_inverted: [[ 0.9129084 -0.130785 ]\n",
      " [-0.130785   0.9129084]]\n",
      "A_list: [[0.10049818]\n",
      " [0.29850036]]\n",
      "sigma: 0.9581357949781447\n"
     ]
    }
   ],
   "source": [
    "def estimate_signal(data):\n",
    "    # Number of data points\n",
    "    N = len(data)\n",
    "\n",
    "    # Number of unknown variables\n",
    "    M = 2\n",
    "\n",
    "    # Calculate autocorrelation values\n",
    "    R_list = []\n",
    "    for k in range(0, M+1):\n",
    "        sum = 0\n",
    "        for n in range(0, N-k):\n",
    "            sum += data[n] * data[n+k]\n",
    "        R_list.append(sum / N)\n",
    "\n",
    "    print(\"R_list:\", R_list)\n",
    "\n",
    "    # Convert autocorrelation values to matrices\n",
    "    Ra_matrix = np.array([[R_list[0], R_list[1]], [R_list[1], R_list[0]]])\n",
    "    Rb_matrix = np.array([[R_list[1], R_list[2]]])\n",
    "\n",
    "    print(\"Ra_matrix:\", Ra_matrix)\n",
    "    print(\"Rb_matrix:\", Rb_matrix)\n",
    "\n",
    "    # Invert Ra_matrix and multiply by Rb_matrix\n",
    "    Ra_inverted = np.linalg.inv(Ra_matrix)\n",
    "    A_list = np.dot(Ra_inverted, Rb_matrix.T)\n",
    "\n",
    "    print(\"Ra_inverted:\", Ra_inverted)\n",
    "    print(\"A_list:\", A_list)\n",
    "\n",
    "    # Calculate variance of noise\n",
    "    sigma = R_list[0] - np.sum(R_list[:M] * A_list[:, 0])\n",
    "\n",
    "    print(\"sigma:\", sigma)\n",
    "\n",
    "    return A_list, sigma\n",
    "\n",
    "# Usage if the function\n",
    "data = read_data(\"signal_values.csv\")\n",
    "A_list, sigma = estimate_signal(data)\n"
   ]
  }
 ],
 "metadata": {
  "kernelspec": {
   "display_name": "base",
   "language": "python",
   "name": "python3"
  },
  "language_info": {
   "codemirror_mode": {
    "name": "ipython",
    "version": 3
   },
   "file_extension": ".py",
   "mimetype": "text/x-python",
   "name": "python",
   "nbconvert_exporter": "python",
   "pygments_lexer": "ipython3",
   "version": "3.9.7"
  },
  "orig_nbformat": 4,
  "vscode": {
   "interpreter": {
    "hash": "9a3b2f89412d06d764fa5d53c7f271a11299da1ad8002cafd7ee65ac1c2fdedc"
   }
  }
 },
 "nbformat": 4,
 "nbformat_minor": 2
}
